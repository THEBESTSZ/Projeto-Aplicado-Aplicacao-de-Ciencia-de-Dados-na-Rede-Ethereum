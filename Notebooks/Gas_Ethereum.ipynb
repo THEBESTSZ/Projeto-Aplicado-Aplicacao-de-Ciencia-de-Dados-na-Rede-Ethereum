{
 "cells": [
  {
   "cell_type": "code",
   "execution_count": 1,
   "id": "3ce0af04",
   "metadata": {},
   "outputs": [],
   "source": [
    "import os\n",
    "import glob\n",
    "from pyspark.sql import SparkSession\n",
    "\n",
    "# Caminho da pasta de saída\n",
    "output_folder = \"../Scripts/output\"\n",
    "\n",
    "# Obter lista de arquivos CSV de blocos\n",
    "block_files = glob.glob(os.path.join(output_folder, \"block\", \"*.csv\"))\n",
    "\n",
    "# Obter lista de arquivos CSV de swaps\n",
    "swap_files = glob.glob(os.path.join(output_folder, \"swap\", \"*.csv\"))\n",
    "\n",
    "# Obter lista de arquivos CSV de transações\n",
    "transaction_files = glob.glob(os.path.join(output_folder, \"transaction\", \"*.csv\"))"
   ]
  },
  {
   "cell_type": "code",
   "execution_count": 2,
   "id": "efd304e6",
   "metadata": {},
   "outputs": [],
   "source": [
    "# Criar sessão Spark\n",
    "\n",
    "import os\n",
    "import sys\n",
    "\n",
    "output_folder = \"../Scripts/output\"\n",
    "\n",
    "os.environ['PYSPARK_PYTHON'] = sys.executable\n",
    "os.environ['PYSPARK_DRIVER_PYTHON'] = sys.executable\n",
    "\n",
    "spark = SparkSession.builder \\\n",
    "    .appName(\"Análise de Transações Ethereum\") \\\n",
    "    .config(\"spark.driver.memory\", \"4g\") \\\n",
    "    .config(\"spark.executor.memory\", \"4g\") \\\n",
    "    .getOrCreate()"
   ]
  },
  {
   "cell_type": "code",
   "execution_count": 3,
   "id": "308babbf",
   "metadata": {},
   "outputs": [],
   "source": [
    "# Criar um DataFrame vazio para armazenar os dados dos blocos\n",
    "combined_block_df = None\n",
    "\n",
    "file_path = \"../Scripts/output/block/block.csv\"\n",
    "\n",
    "# Ler o arquivo CSV\n",
    "combined_block_df = spark.read.csv(file_path, header=True, inferSchema=True)"
   ]
  },
  {
   "cell_type": "code",
   "execution_count": 4,
   "id": "1475606c",
   "metadata": {},
   "outputs": [
    {
     "name": "stdout",
     "output_type": "stream",
     "text": [
      "+--------+--------------------+--------------------+----------+--------------------+------+---------+--------+---------------+-------------------+\n",
      "|Block_ID|          Hash_Block|               Miner|Difficulty|    Total_Difficulty|  Size|Gas_Limit|Gas_Used|Timestamp_Block|Number_Transactions|\n",
      "+--------+--------------------+--------------------+----------+--------------------+------+---------+--------+---------------+-------------------+\n",
      "|17654749|0xcd07cb7175dbb9b...|0x388C818CA8B9251...|         0|58750003716598352...|327143| 30000000|25229766|     1688888687|                244|\n",
      "|17654750|0x0858c82cf11d138...|0x1f9090aaE28b8a3...|         0|58750003716598352...|167572| 30000000|15251119|     1688888699|                133|\n",
      "|17654751|0xb067e06a5265c2f...|0xDAFEA492D9c6733...|         0|58750003716598352...| 60917| 30000000|14639154|     1688888711|                175|\n",
      "|17654752|0x1ddf0e5f1fba923...|0x690B9A9E9aa1C9d...|         0|58750003716598352...|164921| 30000000|19829873|     1688888723|                286|\n",
      "|17654753|0x6adeaf05fcca54f...|0x690B9A9E9aa1C9d...|         0|58750003716598352...|160832| 30000000|12312119|     1688888735|                139|\n",
      "|17654754|0x479224042a817b0...|0xDAFEA492D9c6733...|         0|58750003716598352...|164664| 30000000|15434716|     1688888747|                122|\n",
      "|17654755|0x03de9a7f83e6292...|0x95222290DD7278A...|         0|58750003716598352...| 61307| 30000000|12926618|     1688888759|                118|\n",
      "|17654756|0x6391329142f1575...|0xDAFEA492D9c6733...|         0|58750003716598352...| 75021| 30000000|15259144|     1688888771|                146|\n",
      "|17654757|0xccaf3ae6803fa7b...|0x388C818CA8B9251...|         0|58750003716598352...|151029| 30000000|13929584|     1688888783|                136|\n",
      "|17654758|0xbf3b53900978d5d...|0x690B9A9E9aa1C9d...|         0|58750003716598352...|164510| 30000000|12400977|     1688888795|                112|\n",
      "|17654759|0x268dcabbe4bed67...|0xDAFEA492D9c6733...|         0|58750003716598352...|187141| 30000000|19240136|     1688888807|                106|\n",
      "|17654760|0xa09855c82079a0f...|0x4838B106FCe9647...|         0|58750003716598352...|155048| 30000000|11926699|     1688888819|                 97|\n",
      "|17654761|0xf1ea5164a4f0708...|0x388C818CA8B9251...|         0|58750003716598352...|269594| 30000000|13530877|     1688888831|                127|\n",
      "|17654762|0xe9e72505112b8d1...|0x036C9c0aaE7a826...|         0|58750003716598352...| 59853| 30000000|13404220|     1688888843|                130|\n",
      "|17654763|0x7f0699749d50ee6...|0x690B9A9E9aa1C9d...|         0|58750003716598352...|232032| 30000000|16102911|     1688888855|                135|\n",
      "|17654764|0xbd1f9124cdd6646...|0x690B9A9E9aa1C9d...|         0|58750003716598352...| 44303| 30000000| 8756980|     1688888867|                103|\n",
      "|17654765|0xb0bfa1a5d52ed5a...|0x1f9090aaE28b8a3...|         0|58750003716598352...|161181| 30000000|29990882|     1688888879|                201|\n",
      "|17654766|0xed09964fb5bfa99...|0xc83dad6e38BF7F2...|         0|58750003716598352...|175847| 30000000|19002483|     1688888891|                176|\n",
      "|17654767|0x4b342343d760aa5...|0x1f9090aaE28b8a3...|         0|58750003716598352...|268217| 30000000|17175464|     1688888903|                126|\n",
      "|17654768|0x47a1d637f5e36b3...|0x333333f332a06EC...|         0|58750003716598352...|161255| 30000000|13207699|     1688888915|                141|\n",
      "+--------+--------------------+--------------------+----------+--------------------+------+---------+--------+---------------+-------------------+\n",
      "only showing top 20 rows\n",
      "\n"
     ]
    }
   ],
   "source": [
    "combined_block_df.show()"
   ]
  },
  {
   "cell_type": "code",
   "execution_count": 5,
   "id": "1792cbbd",
   "metadata": {},
   "outputs": [],
   "source": [
    "# Criar um DataFrame vazio para armazenar os dados dos blocos\n",
    "combined_swap_df = None\n",
    "\n",
    "file_path = \"../Scripts/output/swap/swap_transactions.csv\"\n",
    "\n",
    "# Ler o arquivo CSV\n",
    "combined_swap_df = spark.read.csv(file_path, header=True, inferSchema=True)"
   ]
  },
  {
   "cell_type": "code",
   "execution_count": 6,
   "id": "8ed8a71e",
   "metadata": {},
   "outputs": [
    {
     "name": "stdout",
     "output_type": "stream",
     "text": [
      "+--------+--------------------+------------------+--------------------+--------------------+--------------------+--------------------+-----------------+---------------+------------------------+----------------------+-------------------+-------------------+--------------------+\n",
      "|Block_ID|    Type_Transaction|    Amount_Out_Min|          Amount_Out|           Amount_In|  From_Token_Address|    To_Token_Address|From_Token_Symbol|To_Token_Symbol|From_Token_Holders_Count|To_Token_Holders_Count|   From_Token_Price|     To_Token_Price|    Hash_Transaction|\n",
      "+--------+--------------------+------------------+--------------------+--------------------+--------------------+--------------------+-----------------+---------------+------------------------+----------------------+-------------------+-------------------+--------------------+\n",
      "|17654749|swapExactTokensFo...| 33800288878779616|   80641014723769807|     495000000000000|0x7e8eE59BcFb61a2...|0xC02aaA39b223FE8...|          PEPECAT|           WETH|                    65.0|              810741.0| 2.0441496312974E-5|  1862.709950165256|0x72ba0bf9cbc211b...|\n",
      "|17654749|swapExactTokensFo...|  9420128554419013|   10258509782483396|    1845295900000000|0x5B7969a3B1208A3...|0xC02aaA39b223FE8...|           WEPEPE|           WETH|                   159.0|              810743.0|  9.876457428325E-6|  1862.709950165256|0xdae5e6934fcc865...|\n",
      "|17654749|swapExactETHForTo...|         100000000|    3183224276619807|   70000000000000000|0xC02aaA39b223FE8...|0x7AB5ef64Dc60aB8...|             WETH|          Shinu|                810741.0|                 166.0|  1862.709950165256| 3.5787824654755E-5|0xe5abfc174d6dc94...|\n",
      "|17654749|swapExactTokensFo...|348715345078136292|  392342674378478624|22747305141000000...|0x0981d9774a59a70...|0xC02aaA39b223FE8...|           PEPINU|           WETH|                  1108.0|              810743.0|  3.097003571688E-6|  1862.709950165256|0x78ab403fef8dbb7...|\n",
      "|17654749|swapExactETHForTo...|  3476638058711128|    4366931313244389|  100000000000000000|0xC02aaA39b223FE8...|0x7AB5ef64Dc60aB8...|             WETH|          Shinu|                810741.0|                 168.0|  1862.709950165256| 5.3109046472921E-5|0x6a5ffce6c7a7940...|\n",
      "|17654749|swapExactETHForTo...|   540169597630341|     656454409388534|  100000000000000000|0xC02aaA39b223FE8...|0xab93AF929Fe763c...|             WETH|       FLOKIINU|                810741.0|                 121.0|  1862.709950160389| 2.0344638520354E-5|0x6320b0148abea17...|\n",
      "|17654749|swapExactTokensFo...|273151556279974259|  289269720155006088|      13503992285184|0x265F542C1E78068...|0xC02aaA39b223FE8...|              POP|           WETH|                  1061.0|              810741.0|8.24043872959588E-4|  1862.709950160389|0x961b2ed0e6aead5...|\n",
      "|17654749|swapExactTokensFo...| 66898588256549963|   67535239570132585|52231749718879840...|0xcB77302ACc738dC...|0xC02aaA39b223FE8...|         SMARS2.0|           WETH|                    23.0|              810741.0|      1.6876527E-11|  1862.709950160389|0xa57de0af0bedd6f...|\n",
      "|17654749|swapExactETHForTo...|  3188841194714833|    3284506430556279|   50000000000000000|0xC02aaA39b223FE8...|0x56536d281369D85...|             WETH|         ETHINU|                810741.0|                  37.0|  1862.709950160389|  2.953876933086E-6|0x6061348c6d32786...|\n",
      "|17654750|swapExactETHForTo...|                 0|    1950499158270184|   21025026951912376|0xC02aaA39b223FE8...|0x70eE37F7F23AC93...|             WETH|         JESINU|                810743.0|                  21.0|  1862.709950155522| 4.5520366141352E-5|0x555ad699b56333b...|\n",
      "|17654750|swapExactETHForTo...|                 0|49472950352827398...|  200000000000000000|0xC02aaA39b223FE8...|0x51e0359D0E819e1...|             WETH|        PEPNEKO|                810741.0|                  68.0|  1862.709950155522|       9.787939E-11|0x93acae31dccec13...|\n",
      "|17654750|swapExactTokensFo...|                 0|  153958987956668241|    6852369150000000|0x7AB5ef64Dc60aB8...|0xC02aaA39b223FE8...|            Shinu|           WETH|                   172.0|              810743.0| 4.4326850914031E-5|  1862.709950155522|0x138f474b0ccf4eb...|\n",
      "|17654750|swapExactETHForTo...|                 0|11897062907884171...|  100000000000000000|0xC02aaA39b223FE8...|0x3a43357787824f5...|             WETH|         WOJINU|                810743.0|                 419.0|  1862.709950155522|     1.72717048E-10|0xf6f25acdecb4433...|\n",
      "|17654750|swapExactETHForTo...|    84318931982527|      99198743508856|  500000000000000000|0xC02aaA39b223FE8...|0x34ba04282799682...|             WETH|        SHIB2.0|                810743.0|                2254.0|  1862.709950155522|9.48243079802629E-4|0x750d3476478d2b2...|\n",
      "|17654750|swapExactTokensFo...|                 0|   99879798096677768|     495000000000000|0x7e8eE59BcFb61a2...|0xC02aaA39b223FE8...|          PEPECAT|           WETH|                    68.0|              810743.0| 1.0147238992849E-5|  1862.709950155522|0x8486658346a199f...|\n",
      "|17654750|swapExactTokensFo...|100477225210894718|  145178089704992774|      11191105172021|0xb7e38638bA43043...|0xC02aaA39b223FE8...|          DogeInu|           WETH|                   148.0|              810743.0|0.02293210378233719|  1862.709950155522|0x2d467892fc49066...|\n",
      "|17654750|swapExactTokensFo...|140757063477444210|  229090048844740742|  108771589223461790|0xCf586d9f47E35fE...|0xC02aaA39b223FE8...|           AUTISM|           WETH|                   323.0|              810741.0|  4.594433847163E-6|  1862.709950155522|0xfbf3be8eb0fc9eb...|\n",
      "|17654750|swapExactTokensFo...|         399883232|           435428410|           327396533|0x86Db800573A7bd2...|0xC02aaA39b223FE8...|        PEPEQUEEN|           WETH|                    69.0|              810743.0|  2.477955329718E-6|  1862.709950155522|0x11e42f39bcd7629...|\n",
      "|17654750|swapExactTokensFo...| 50898430364057066|   78866502187251065|     495000000000000|0x7e8eE59BcFb61a2...|0xC02aaA39b223FE8...|          PEPECAT|           WETH|                    69.0|              810743.0| 1.2124588574257E-5|  1862.709950155522|0xf70b1d45749e74f...|\n",
      "|17654750|swapExactTokensFo...| 93574805713864131|   96894071611662482|   13860000000000000|0x2D29C127e78bc7E...|0xC02aaA39b223FE8...|          PEWOJAK|           WETH|                   133.0|              810743.0|  5.394981365264E-6|  1862.709950155522|0x7301f1fdb214d95...|\n",
      "+--------+--------------------+------------------+--------------------+--------------------+--------------------+--------------------+-----------------+---------------+------------------------+----------------------+-------------------+-------------------+--------------------+\n",
      "only showing top 20 rows\n",
      "\n"
     ]
    }
   ],
   "source": [
    "combined_swap_df.show()"
   ]
  },
  {
   "cell_type": "code",
   "execution_count": 7,
   "id": "b6fbdf21",
   "metadata": {},
   "outputs": [],
   "source": [
    "combined_transaction_df = None\n",
    "\n",
    "file_path = \"../Scripts/output/transaction/transactions.csv\"\n",
    "\n",
    "# Ler o arquivo CSV\n",
    "combined_transaction_df = spark.read.csv(file_path, header=True, inferSchema=True)"
   ]
  },
  {
   "cell_type": "code",
   "execution_count": 8,
   "id": "13063dfd",
   "metadata": {},
   "outputs": [
    {
     "name": "stdout",
     "output_type": "stream",
     "text": [
      "+--------+--------------------+--------------------+--------------------+------------------+-----------+---------+--------+---------+---------------------+\n",
      "|Block_ID|    Hash_Transaction|                From|                  To|       Value_(Wei)|  Gas_Price|Gas_Limit|Gas_Used|   Status|Timestamp_Transaction|\n",
      "+--------+--------------------+--------------------+--------------------+------------------+-----------+---------+--------+---------+---------------------+\n",
      "|17654749|0x72ba0bf9cbc211b...|0x4d24e0730a80C4c...|0x7a250d5630B4cF5...|                 0|33785543726|   500000|  245039|Confirmed|           1688888687|\n",
      "|17654749|0x05e6f3bc81703dc...|0x4FA454aCb795675...|0x221657776846890...|                 0|30000000000|   210000|   55318|Confirmed|           1688888687|\n",
      "|17654749|0x907542da85dae91...|0xf6259F38D9930BA...|0xA35923162C49cF9...|                 0|29192017192|   100000|   35115|Confirmed|           1688888687|\n",
      "|17654749|0x2d863c36bed37bb...|0x8fF9395f729f351...|0x3F05c89AA22dECD...|  2743200000000000|25400000000|    21000|   21000|Confirmed|           1688888687|\n",
      "|17654749|0xf8c17f8e09150fc...|0xfEa077E0206E09a...|0x95aD61b0a150d79...|                 0|22551142035|    41754|   29995|Confirmed|           1688888687|\n",
      "|17654749|0x4fbbd7a4642b926...|0x7023A88484B69ba...|0x514910771AF9Ca6...|                 0|22551142035|    41987|   30189|Confirmed|           1688888687|\n",
      "|17654749|0x65f274f69b45d89...|0x46340b20830761e...|0x4a220E6096B25EA...|                 0|21288025788|   350000|   34857|Confirmed|           1688888687|\n",
      "|17654749|0x2fa3f281ce78dca...|0xAe45a8240147E61...|0x0A4fc244dB5193A...|  2255114203500000|21288025788|    21000|   21000|Confirmed|           1688888687|\n",
      "|17654749|0x2bad0543f70679e...|0xAe45a8240147E61...|0x78107778DFc5231...|  1978114458278514|21288025788|    21000|   21000|Confirmed|           1688888687|\n",
      "|17654749|0xd2440143507f22a...|0xc487Ce3feDFf725...|0xA2cd3D43c775978...|                 0|19159223209|   120000|   34126|Confirmed|           1688888687|\n",
      "|17654749|0x7c9b5789d8d1084...|0x3527439923a63F8...|0x3dB52cE065f7280...|                 0|18785543726|  8000000| 1229240|Confirmed|           1688888687|\n",
      "|17654749|0x042bf0b75acabdd...|0x3527439923a63F8...|0x3dB52cE065f7280...|                 0|18785543726|  8000000| 1213051|Confirmed|           1688888687|\n",
      "|17654749|0x31fdf136cb30d26...|0xeF2B5457699DAdB...|0x421D28450c2cBc9...|   855797419049468|18171900542|    21000|   21000|Confirmed|           1688888687|\n",
      "|17654749|0x86610349ed3e210...|0xdBF11fb6CD16Fc1...|0x3506424F91fD330...|                 0|17970420630|    81532|   49555|Confirmed|           1688888687|\n",
      "|17654749|0x40041dffa5a020e...|0x335954489CFe2A9...|0xa627A19CDcfDa3A...|148907161456151530|17740021490|    61603|   61603|Confirmed|           1688888687|\n",
      "|17654749|0xc7cdfd66385ade3...|0xD82174458525424...|0x677c7B82587819e...| 21887010088618000|17221900542|    21000|   21000|Confirmed|           1688888687|\n",
      "|17654749|0xd9957b0c58a85a1...|0x557b65Cf6D8C7E6...|0xdAC17F958D2ee52...|                 0|17203693680|    46097|   41297|Confirmed|           1688888687|\n",
      "|17654749|0x3ac345da3878f88...|0x00000000000124d...|0x1111111254EEB25...|                 0|17030420630|  1000000|  120336|Confirmed|           1688888687|\n",
      "|17654749|0xd50b6b52ef0581c...|0xE55567BAe50e657...|0x77EDAE6A5f33260...| 21941800000000000|17030420630|   462476|  210973|Confirmed|           1688888687|\n",
      "|17654749|0x80853cc455672aa...|0xB8FF877ed78Ba52...|0x5a54fe5234E8114...|                 0|17030420630|   298396|  108898|Confirmed|           1688888687|\n",
      "+--------+--------------------+--------------------+--------------------+------------------+-----------+---------+--------+---------+---------------------+\n",
      "only showing top 20 rows\n",
      "\n"
     ]
    }
   ],
   "source": [
    "combined_transaction_df.show()"
   ]
  },
  {
   "cell_type": "code",
   "execution_count": 9,
   "id": "8367c92c",
   "metadata": {},
   "outputs": [
    {
     "name": "stdout",
     "output_type": "stream",
     "text": [
      "Número de registros em block_df:  5282\n",
      "+------------------------+\n",
      "|sum(Number_Transactions)|\n",
      "+------------------------+\n",
      "|                  801274|\n",
      "+------------------------+\n",
      "\n",
      "+-------+--------------------+\n",
      "|summary|         Value_(Wei)|\n",
      "+-------+--------------------+\n",
      "|  count|              801110|\n",
      "|   mean|85416417840953147...|\n",
      "| stddev|6.100243978930624E19|\n",
      "|    min|                   0|\n",
      "|    max|30000000000000000...|\n",
      "+-------+--------------------+\n",
      "\n"
     ]
    }
   ],
   "source": [
    "# Exemplo de contagem de registros\n",
    "print(\"Número de registros em block_df: \", combined_block_df.count())\n",
    "\n",
    "# Exemplo de sumarização de valores\n",
    "combined_block_df.agg({\"Number_Transactions\": \"sum\"}).show()\n",
    "\n",
    "# Exemplo de análise descritiva de colunas\n",
    "combined_transaction_df.describe(\"Value_(Wei)\").show()"
   ]
  },
  {
   "cell_type": "code",
   "execution_count": 10,
   "id": "9121ef57",
   "metadata": {
    "scrolled": false
   },
   "outputs": [
    {
     "data": {
      "image/png": "[encoded data removed]",
      "text/plain": [
       "<Figure size 640x480 with 1 Axes>"
      ]
     },
     "metadata": {},
     "output_type": "display_data"
    }
   ],
   "source": [
    "import matplotlib.pyplot as plt\n",
    "import matplotlib.dates as mdates\n",
    "from pyspark.sql.functions import col, to_timestamp, expr\n",
    "from pyspark.sql.window import Window\n",
    "from pyspark.sql import functions as F\n",
    "\n",
    "# Converter a coluna 'Timestamp_Transacao' para o formato 'timestamp'\n",
    "combined_transaction_df = combined_transaction_df.withColumn('Timestamp_Transaction', to_timestamp(col('Timestamp_Transaction')))\n",
    "\n",
    "# Criar a coluna Gas_Utilizado, no qual Gas_Utilizado é o preço do gás vezes o limite\n",
    "combined_transaction_df = combined_transaction_df.withColumn(\"Transaction_Fee\", expr(\"Gas_Price * Gas_Used\"))\n",
    "\n",
    "# Calcular a média de 'Gás_Usado' agrupada por data e hora\n",
    "grouped_df = combined_transaction_df.groupBy('Timestamp_Transaction').mean('Transaction_Fee')\n",
    "\n",
    "# Ordenar os valores pela coluna 'Timestamp_Transacao'\n",
    "ordered_df = grouped_df.orderBy('Timestamp_Transaction')\n",
    "\n",
    "# Obter os valores das colunas 'Timestamp_Transacao' e 'avg(Gás_Usado)' em listas\n",
    "timestamps = ordered_df.select('Timestamp_Transaction').rdd.flatMap(lambda x: x).collect()\n",
    "avg_gas_used = ordered_df.select('avg(Transaction_Fee)').rdd.flatMap(lambda x: x).collect()\n",
    "\n",
    "# Plotar o gráfico\n",
    "fig, ax = plt.subplots()\n",
    "ax.plot(timestamps, avg_gas_used)\n",
    "\n",
    "# Formatar o eixo x para exibir a data/hora\n",
    "ax.xaxis.set_major_formatter(mdates.DateFormatter('%Y-%m-%d %H:%M:%S'))\n",
    "plt.xticks(rotation=45)\n",
    "\n",
    "plt.xlabel('Data e Hora')\n",
    "plt.ylabel('Quantidade Média de Gás Usado')\n",
    "\n",
    "plt.show()"
   ]
  },
  {
   "cell_type": "code",
   "execution_count": 11,
   "id": "c282e16a",
   "metadata": {},
   "outputs": [
    {
     "name": "stdout",
     "output_type": "stream",
     "text": [
      "Memória alocada para o driver Spark:  4g\n",
      "Memória alocada para os executores Spark:  4g\n"
     ]
    }
   ],
   "source": [
    "driver_memory = spark.conf.get(\"spark.driver.memory\")\n",
    "executor_memory = spark.conf.get(\"spark.executor.memory\")\n",
    "\n",
    "print(\"Memória alocada para o driver Spark: \", driver_memory)\n",
    "print(\"Memória alocada para os executores Spark: \", executor_memory)"
   ]
  },
  {
   "cell_type": "code",
   "execution_count": null,
   "id": "6b56b3d0",
   "metadata": {},
   "outputs": [],
   "source": []
  }
 ],
 "metadata": {
  "kernelspec": {
   "display_name": "Python 3 (ipykernel)",
   "language": "python",
   "name": "python3"
  },
  "language_info": {
   "codemirror_mode": {
    "name": "ipython",
    "version": 3
   },
   "file_extension": ".py",
   "mimetype": "text/x-python",
   "name": "python",
   "nbconvert_exporter": "python",
   "pygments_lexer": "ipython3",
   "version": "3.10.9"
  }
 },
 "nbformat": 4,
 "nbformat_minor": 5
}
