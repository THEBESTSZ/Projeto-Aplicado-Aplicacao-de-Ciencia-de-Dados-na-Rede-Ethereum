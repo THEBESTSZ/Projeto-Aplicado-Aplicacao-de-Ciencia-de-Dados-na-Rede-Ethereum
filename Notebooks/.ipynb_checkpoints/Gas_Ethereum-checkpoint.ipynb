{
 "cells": [
  {
   "cell_type": "code",
   "execution_count": 46,
   "id": "3ce0af04",
   "metadata": {},
   "outputs": [],
   "source": [
    "import os\n",
    "import glob\n",
    "from pyspark.sql import SparkSession\n",
    "\n",
    "# Caminho da pasta de saída\n",
    "output_folder = \"../Scripts/output\"\n",
    "\n",
    "# Obter lista de arquivos CSV de blocos\n",
    "block_files = glob.glob(os.path.join(output_folder, \"block\", \"*.csv\"))\n",
    "\n",
    "# Obter lista de arquivos CSV de swaps\n",
    "swap_files = glob.glob(os.path.join(output_folder, \"swap\", \"*.csv\"))\n",
    "\n",
    "# Obter lista de arquivos CSV de transações\n",
    "transaction_files = glob.glob(os.path.join(output_folder, \"transaction\", \"*.csv\"))"
   ]
  },
  {
   "cell_type": "code",
   "execution_count": 47,
   "id": "efd304e6",
   "metadata": {},
   "outputs": [],
   "source": [
    "# Criar sessão Spark\n",
    "spark = SparkSession.builder \\\n",
    "    .appName(\"Análise de Transações Ethereum\") \\\n",
    "    .getOrCreate()"
   ]
  },
  {
   "cell_type": "code",
   "execution_count": 48,
   "id": "308babbf",
   "metadata": {},
   "outputs": [],
   "source": [
    "# Criar um DataFrame vazio para armazenar os dados dos blocos\n",
    "combined_block_df = None\n",
    "\n",
    "# Ler e unir os arquivos CSV de blocos\n",
    "for file in block_files:\n",
    "    df = spark.read.csv(file, header=True, inferSchema=True)\n",
    "    if combined_block_df is None:\n",
    "        combined_block_df = df\n",
    "    else:\n",
    "        combined_block_df = combined_block_df.unionAll(df)"
   ]
  },
  {
   "cell_type": "code",
   "execution_count": 49,
   "id": "1475606c",
   "metadata": {},
   "outputs": [
    {
     "name": "stdout",
     "output_type": "stream",
     "text": [
      "+--------+--------------------+--------------------+----------+--------------------+------+---------+--------+---------------+-----------------+\n",
      "|Block_ID|          Hash_Bloco|               Miner|Difficulty|    Total_Difficulty|  Size|Gas_Limit|Gas_Used|Timestamp_Bloco|Numero_Transacoes|\n",
      "+--------+--------------------+--------------------+----------+--------------------+------+---------+--------+---------------+-----------------+\n",
      "|17575852|0xce02b0c4913568b...|0x3b64216AD1a58f6...|         0|58750003716598352...| 50308| 30000000|28045149|     1687931471|              140|\n",
      "|17575853|0x4278e01affcc76c...|0x4675C7e5BaAFBFF...|         0|58750003716598352...| 54070| 30000000|10714951|     1687931483|              122|\n",
      "|17575854|0x0840ed573ede00b...|0x1f9090aaE28b8a3...|         0|58750003716598352...|264288| 30000000|12481649|     1687931495|              111|\n",
      "|17575930|0x721545ed9aad170...|0x690B9A9E9aa1C9d...|         0|58750003716598352...|237612| 30000000|29977332|     1687932431|              242|\n",
      "|17575931|0x1bfe99627aa6bc4...|0x3b64216AD1a58f6...|         0|58750003716598352...|289154| 30000000|18070579|     1687932443|              157|\n",
      "|17575942|0x4dd51ea2f418fb3...|0xDAFEA492D9c6733...|         0|58750003716598352...| 82676| 30000000|16343329|     1687932575|              176|\n",
      "|17575943|0x55e5ed501b451ad...|0xDAFEA492D9c6733...|         0|58750003716598352...|141612| 30000000|11070386|     1687932587|              117|\n",
      "|17575944|0xb23900918d766ca...|0x90B0c836a19A741...|         0|58750003716598352...| 58849| 30000000|13803599|     1687932599|              151|\n",
      "|17575945|0x83c6abf0aa57412...|0x690B9A9E9aa1C9d...|         0|58750003716598352...|118411| 30000000|16875226|     1687932611|              244|\n",
      "|17575946|0xcb94de81f6a9785...|0xDAFEA492D9c6733...|         0|58750003716598352...| 85279| 30000000|18737848|     1687932623|              241|\n",
      "|17575947|0x5096c94e2538318...|0x13F2241aa64bb6D...|         0|58750003716598352...|176830| 30000000|18018035|     1687932635|              133|\n",
      "|17575948|0x321445b41d5f69a...|0x3b64216AD1a58f6...|         0|58750003716598352...| 44474| 30000000| 8150040|     1687932647|              100|\n",
      "|17575949|0x5bb79555ce36c8f...|0x95222290DD7278A...|         0|58750003716598352...|173290| 30000000|16919398|     1687932659|              164|\n",
      "|17575950|0x368c03057bc0169...|0x690B9A9E9aa1C9d...|         0|58750003716598352...| 62170| 30000000|14038645|     1687932671|              161|\n",
      "|17575951|0xb75be3512933f00...|0x388C818CA8B9251...|         0|58750003716598352...| 47262| 30000000|13897083|     1687932683|              114|\n",
      "|17575952|0x78ae02da65eb748...|0x1f9090aaE28b8a3...|         0|58750003716598352...| 56472| 30000000|11907649|     1687932695|              141|\n",
      "+--------+--------------------+--------------------+----------+--------------------+------+---------+--------+---------------+-----------------+\n",
      "\n"
     ]
    }
   ],
   "source": [
    "combined_block_df.show()"
   ]
  },
  {
   "cell_type": "code",
   "execution_count": 50,
   "id": "1792cbbd",
   "metadata": {},
   "outputs": [],
   "source": [
    "# Criar um DataFrame vazio para armazenar os dados dos blocos\n",
    "combined_swap_df = None\n",
    "\n",
    "# Ler e unir os arquivos CSV de blocos\n",
    "for file in swap_files:\n",
    "    df = spark.read.csv(file, header=True, inferSchema=True)\n",
    "    if combined_swap_df is None:\n",
    "        combined_swap_df = df\n",
    "    else:\n",
    "        combined_swap_df = combined_swap_df.unionAll(df)"
   ]
  },
  {
   "cell_type": "code",
   "execution_count": 51,
   "id": "8ed8a71e",
   "metadata": {},
   "outputs": [
    {
     "name": "stdout",
     "output_type": "stream",
     "text": [
      "+--------+--------------------+--------------------+--------------------+--------------------+--------------------+--------------------+--------------------+\n",
      "|Block_ID|    type_Transaction|        amountOutMin|           amountOut|            amountIn|   fromTokenContract|     toTokenContract|     hashTransaction|\n",
      "+--------+--------------------+--------------------+--------------------+--------------------+--------------------+--------------------+--------------------+\n",
      "|17575852|swapExactTokensFo...|  916191676394057977|  916191814249825566|10000000000000000...|0x409B46013C78C63...|0xC02aaA39b223FE8...|0x844dee500fa7c4f...|\n",
      "|17575852|swapExactETHForTo...|     119543442325310|     121695224287166|   83000000000000000|0xC02aaA39b223FE8...|0xB81aE9Ae911c4cA...|0xe93c7b1a0b5f65e...|\n",
      "|17575852|swapExactETHForTo...|41879479115110379...|41942298333783044...|   93000000000000000|0xC02aaA39b223FE8...|0x5C254dFB4967cD6...|0x1dff4b108b7dc25...|\n",
      "|17575852|swapExactTokensFo...|                   0|      17302449914238|     212310656557767|0x08A632e6935ba66...|0xC02aaA39b223FE8...|0x945c77ddbf05fd0...|\n",
      "|17575852|swapExactTokensFo...|                   0|   32373974333932184|     623743000000000|0xc45afCF9032930d...|0xC02aaA39b223FE8...|0xb9b8c0f3646e579...|\n",
      "|17575853|swapExactETHForTo...|29844757454371896077|29844757454371896...|   30000000000000000|0xC02aaA39b223FE8...|0x3A7d825F932612B...|0xcbf9ad3608cdebd...|\n",
      "|17575853|swapExactETHForTo...|      16158003159640|      16321215312768|   50000000000000000|0xC02aaA39b223FE8...|0xd1e4c1C81733C7E...|0xc5fb42f3ddeb16c...|\n",
      "|17575853|swapExactETHForTo...|43857068011871963...|48730075568746626...|   15000000000000000|0xC02aaA39b223FE8...|0xfb66321D7C67499...|0x092bd645f0e1aa6...|\n",
      "|17575853|swapExactTokensFo...|   67062327225740655|   72448437595471897|    1462999000000000|0xc45afCF9032930d...|0xC02aaA39b223FE8...|0xdf765992bd7cfa5...|\n",
      "|17575853|swapExactTokensFo...|  210023036754958138|  235705928945041323|24449341882840000...|0x3A7d825F932612B...|0xC02aaA39b223FE8...|0x995b67733b2da32...|\n",
      "|17575853|swapExactTokensFo...|                   0|   98715482135783227|      32710074710657|0xd1e4c1C81733C7E...|0xC02aaA39b223FE8...|0x1507ac7cf3d0715...|\n",
      "|17575853|swapExactTokensFo...|                   0|   95225341392677778|      32710074710657|0xd1e4c1C81733C7E...|0xC02aaA39b223FE8...|0x3090fff696c9845...|\n",
      "|17575853|swapExactETHForTo...|    2575504316969282|    2761197231369993|   50000000000000000|0xC02aaA39b223FE8...|0x1b8E37fc72b95A6...|0x5bdf34968cbca4b...|\n",
      "|17575854|swapExactTokensFo...|   89364201345602113|  186776445756781523|19946756673320000...|0x3A7d825F932612B...|0xC02aaA39b223FE8...|0xcee0a09d8590807...|\n",
      "|17575854|swapExactETHForTo...|                   0|54371627007004253...|   50000000000000000|0xC02aaA39b223FE8...|0x3A7d825F932612B...|0x62ec88df5c54184...|\n",
      "|17575854|swapExactETHForTo...|64114606451573961964|32163128472568509...|   30000000000000000|0xC02aaA39b223FE8...|0x3A7d825F932612B...|0x77ab25ce852f90f...|\n",
      "|17575930|swapExactTokensFo...| 2730877733595058380| 3772867993439245585|12350000000000000...|0x1936C91190E901B...|0xC02aaA39b223FE8...|0xbb5f6d2c5671878...|\n",
      "|17575930|swapExactTokensFo...|   23770946607983244|   52824325795518320|       1999999999999|0x45D573fFE8F2d0a...|0xC02aaA39b223FE8...|0xa943b8ab1040312...|\n",
      "|17575930|swapExactTokensFo...|   58683538810265006|   65115542250679595| 1400000000000000000|0x1212d3fC32d7C27...|0xC02aaA39b223FE8...|0xd5e769c2e2c41da...|\n",
      "|17575930|swapExactETHForTo...|   60808934918858975|   86869907026941394|   10000000000000000|0xC02aaA39b223FE8...|0x2640e470C525bd1...|0xd1e475f88e7206d...|\n",
      "+--------+--------------------+--------------------+--------------------+--------------------+--------------------+--------------------+--------------------+\n",
      "only showing top 20 rows\n",
      "\n"
     ]
    }
   ],
   "source": [
    "combined_swap_df.show()"
   ]
  },
  {
   "cell_type": "code",
   "execution_count": 52,
   "id": "b6fbdf21",
   "metadata": {},
   "outputs": [],
   "source": [
    "# Criar um DataFrame vazio para armazenar os dados dos blocos\n",
    "combined_transaction_df = None\n",
    "\n",
    "# Ler e unir os arquivos CSV de blocos\n",
    "for file in transaction_files:\n",
    "    df = spark.read.csv(file, header=True, inferSchema=True)\n",
    "    if combined_transaction_df is None:\n",
    "        combined_transaction_df = df\n",
    "    else:\n",
    "        combined_transaction_df = combined_transaction_df.unionAll(df)"
   ]
  },
  {
   "cell_type": "code",
   "execution_count": 53,
   "id": "13063dfd",
   "metadata": {},
   "outputs": [
    {
     "name": "stdout",
     "output_type": "stream",
     "text": [
      "+--------+--------------------+--------------------+--------------------+-------------------+-----------+----------+----------+-------------------+\n",
      "|Block_ID|      Hash_Transacao|           Remetente|        Destinatario|        Valor_(Wei)|   Taxa_Gas|Limite_Gas|    Status|Timestamp_Transacao|\n",
      "+--------+--------------------+--------------------+--------------------+-------------------+-----------+----------+----------+-------------------+\n",
      "|17575852|0xe633c1c2e539cb5...|0xae2Fc483527B8EF...|0x6b75d8AF000000e...|           47066712|12426613974|    210582|Confirmada|         1687931471|\n",
      "|17575852|0x844dee500fa7c4f...|0x1f016dCA27344B4...|0x7a250d5630B4cF5...|                  0|12624613974|    166267|Confirmada|         1687931471|\n",
      "|17575852|0x3bc0cecd0eb21e7...|0xf8C11f857a13903...|0x1111111254EEB25...|2000000000000000000|12926613974|    137604|Confirmada|         1687931471|\n",
      "|17575852|0x3b231189c7774b0...|0xae2Fc483527B8EF...|0x6b75d8AF000000e...|           46286308|19273174306|    181430|Confirmada|         1687931471|\n",
      "|17575852|0x42dfae873eba720...|0x13fF963fc8A3993...|0x7a250d5630B4cF5...|                  0|14426613974|    200000|Confirmada|         1687931471|\n",
      "|17575852|0xe93c7b1a0b5f65e...|0xf174603dE2B11Db...|0x7a250d5630B4cF5...|  83000000000000000|14700000000|    239349|Confirmada|         1687931471|\n",
      "|17575852|0x9403a530f6c2c09...|0x7692527F9F291e8...|0xcFD4176f7975c70...|                  0|13426613974|    300014|Confirmada|         1687931471|\n",
      "|17575852|0xd31b61b79ce7611...|0x45d119783c62A0A...|0x3fC91A3afd70395...|  30000000000000000|12526613974|    229009|Confirmada|         1687931471|\n",
      "|17575852|0x5a4ff899813690b...|0xa75c1F69f54be92...|0x1111111254EEB25...|   5443368708277578|12531418642|    140653|Confirmada|         1687931471|\n",
      "|17575852|0xee1930e4dab1dbc...|0xcfd090dE8CC555a...|0x1111111254EEB25...|  73000000000000000|12531418642|    154723|Confirmada|         1687931471|\n",
      "|17575852|0x198873d18c29e99...|0x233e7C52b4Ad757...|0x3fC91A3afd70395...|                  0|12526613974|    188884|Confirmada|         1687931471|\n",
      "|17575852|0xc0e27e2ea88b9a1...|0xBfD8Bdb1832B1Cf...|0x68b3465833fb72A...|  50000000000000000|12526613974|    313221|Confirmada|         1687931471|\n",
      "|17575852|0x7a45b66743b9464...|0x5D5F4bF13C67156...|0x3fC91A3afd70395...|                  0|12526613974|    328638|Confirmada|         1687931471|\n",
      "|17575852|0x70adac234dfa20c...|0xA6fB6A75117e86b...|0x3fC91A3afd70395...|  60912003925408977|12526613974|    189645|Confirmada|         1687931471|\n",
      "|17575852|0xfdc7508200e7a27...|0xC627fa33870398c...|0x68b3465833fb72A...|                  0|12526613974|    183127|Confirmada|         1687931471|\n",
      "|17575852|0x81e92c53d85efe4...|0x4442B1f594e6CF4...|0x3fC91A3afd70395...|                  0|12953716524|    244856|Confirmada|         1687931471|\n",
      "|17575852|0x1dff4b108b7dc25...|0xf40E2EA6Cb790f7...|0x7a250d5630B4cF5...|  93000000000000000|13650000000|    174568|Confirmada|         1687931471|\n",
      "|17575852|0x7beb84a608a2d08...|0x146C216Bec55ea7...|0x3fC91A3afd70395...|  50000000000000000|12526613974|    208489|Confirmada|         1687931471|\n",
      "|17575852|0x8e488332b16e14d...|0x9D2c42aBc240C1F...|0x3fC91A3afd70395...|                  0|12526613974|    236470|Confirmada|         1687931471|\n",
      "|17575852|0x952ed729c3074f7...|0x2DCdE61d04513A8...|0x3fC91A3afd70395...|                  0|12526613974|    227926|Confirmada|         1687931471|\n",
      "+--------+--------------------+--------------------+--------------------+-------------------+-----------+----------+----------+-------------------+\n",
      "only showing top 20 rows\n",
      "\n"
     ]
    }
   ],
   "source": [
    "combined_transaction_df.show()"
   ]
  },
  {
   "cell_type": "code",
   "execution_count": 54,
   "id": "8367c92c",
   "metadata": {},
   "outputs": [
    {
     "name": "stdout",
     "output_type": "stream",
     "text": [
      "Número de registros em block_df:  16\n",
      "+----------------------+\n",
      "|sum(Numero_Transacoes)|\n",
      "+----------------------+\n",
      "|                  2514|\n",
      "+----------------------+\n",
      "\n",
      "+-------+--------------------+\n",
      "|summary|         Valor_(Wei)|\n",
      "+-------+--------------------+\n",
      "|  count|                2394|\n",
      "|   mean|90684036693207590...|\n",
      "| stddev|1.467943854060563E19|\n",
      "|    min|                   0|\n",
      "|    max|49986920600000000...|\n",
      "+-------+--------------------+\n",
      "\n"
     ]
    }
   ],
   "source": [
    "# Exemplo de contagem de registros\n",
    "print(\"Número de registros em block_df: \", combined_block_df.count())\n",
    "\n",
    "# Exemplo de sumarização de valores\n",
    "combined_block_df.agg({\"Numero_Transacoes\": \"sum\"}).show()\n",
    "\n",
    "# Exemplo de análise descritiva de colunas\n",
    "combined_transaction_df.describe(\"Valor_(Wei)\").show()"
   ]
  },
  {
   "cell_type": "code",
   "execution_count": 58,
   "id": "d47a0bae",
   "metadata": {},
   "outputs": [],
   "source": [
    "import matplotlib.pyplot as plt\n",
    "from pyspark.sql.functions import col, from_unixtime, minute\n",
    "\n",
    "combined_transaction_df = combined_transaction_df.withColumn('Timestamp_Transacao', from_unixtime(col('Timestamp_Transacao')))\n",
    "combined_transaction_df = combined_transaction_df.withColumn('Gás_Usado', col('Taxa_Gas') * col('Limite_Gas'))\n",
    "grouped_df = combined_transaction_df.groupBy(minute('Timestamp_Transacao').alias('Minuto')).mean('Gás_Usado')\n",
    "\n",
    "pandas_df = grouped_df.toPandas()\n",
    "plt.plot(pandas_df['Minuto'], pandas_df['avg(Gás_Usado)'])\n",
    "\n",
    "plt.xlabel('Minuto')\n",
    "plt.ylabel('Quantidade Média de Gás Usado')\n",
    "\n",
    "plt.show()"
   ]
  }
 ],
 "metadata": {
  "kernelspec": {
   "display_name": "Python 3 (ipykernel)",
   "language": "python",
   "name": "python3"
  },
  "language_info": {
   "codemirror_mode": {
    "name": "ipython",
    "version": 3
   },
   "file_extension": ".py",
   "mimetype": "text/x-python",
   "name": "python",
   "nbconvert_exporter": "python",
   "pygments_lexer": "ipython3",
   "version": "3.10.9"
  }
 },
 "nbformat": 4,
 "nbformat_minor": 5
}
